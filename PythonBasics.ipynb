{
  "nbformat": 4,
  "nbformat_minor": 0,
  "metadata": {
    "colab": {
      "name": "PythonBasics.ipynb",
      "provenance": [],
      "collapsed_sections": [],
      "authorship_tag": "ABX9TyOlf/ZtVZrXRwhxHDAHNAsI",
      "include_colab_link": true
    },
    "kernelspec": {
      "display_name": "Python 3",
      "name": "python3"
    },
    "language_info": {
      "name": "python"
    }
  },
  "cells": [
    {
      "cell_type": "markdown",
      "metadata": {
        "id": "view-in-github",
        "colab_type": "text"
      },
      "source": [
        "<a href=\"https://colab.research.google.com/github/naveenkraavula007/naveenkraavula007/blob/main/PythonBasics.ipynb\" target=\"_parent\"><img src=\"https://colab.research.google.com/assets/colab-badge.svg\" alt=\"Open In Colab\"/></a>"
      ]
    },
    {
      "cell_type": "markdown",
      "metadata": {
        "id": "70KiySizC6TA"
      },
      "source": [
        "# **Pyhton Basics** "
      ]
    },
    {
      "cell_type": "code",
      "metadata": {
        "colab": {
          "base_uri": "https://localhost:8080/"
        },
        "id": "v5Qlc0RxDCox",
        "outputId": "5554444e-69bc-4899-a561-315310c975b0"
      },
      "source": [
        "#Printing Hello World Basic Syntax\n",
        "print(\"Hello\");\n",
        "print(\"Hello world!\")"
      ],
      "execution_count": 6,
      "outputs": [
        {
          "output_type": "stream",
          "text": [
            "Hello\n",
            "Hello world!\n"
          ],
          "name": "stdout"
        }
      ]
    },
    {
      "cell_type": "code",
      "metadata": {
        "colab": {
          "base_uri": "https://localhost:8080/"
        },
        "id": "4bV4iB2YDQJU",
        "outputId": "bdd3db71-ebe3-405a-dffe-b5858999be06"
      },
      "source": [
        "#printing Different Types of Addition of Two Numbers\n",
        "a = 10\n",
        "b = 20\n",
        "c = a + b\n",
        "print(a + b)\n",
        "print(\"The Sum of {} and {} is {}\".format(a,b,c))\n",
        "print(a + b);\n",
        "print(c)"
      ],
      "execution_count": null,
      "outputs": [
        {
          "output_type": "stream",
          "text": [
            "30\n",
            "The Sum of 10 and 20 is 30\n",
            "30\n"
          ],
          "name": "stdout"
        }
      ]
    },
    {
      "cell_type": "markdown",
      "metadata": {
        "id": "z_Ez3p2rGAZm"
      },
      "source": [
        "# ***Identifiers***\n",
        "\n",
        "Rules to define identifiers:\n",
        "\n",
        "1.  Allowed characters => Alphabets, Digits and Underscore Symbol\n",
        "\n",
        "2.  Identifier should never start with a digit\n",
        "\n",
        "3.  Case Sensitive.\n",
        "\n",
        "4.  No length limit.\n",
        "\n",
        "5.  Can't use reserved words for identifier."
      ]
    },
    {
      "cell_type": "code",
      "metadata": {
        "colab": {
          "base_uri": "https://localhost:8080/"
        },
        "id": "aMVpMvCFDQAW",
        "outputId": "4a1dd2d8-67eb-4580-d00a-7f6c3248175c"
      },
      "source": [
        "#Identifiers\n",
        "\n",
        "abcd123 = 10\n",
        "Abc456 = 20\n",
        "xyz_789 = 30\n",
        "\n",
        "print(abcd123)\n",
        "print(Abc456)\n",
        "print(xyz_789)"
      ],
      "execution_count": null,
      "outputs": [
        {
          "output_type": "stream",
          "text": [
            "10\n",
            "20\n",
            "30\n"
          ],
          "name": "stdout"
        }
      ]
    },
    {
      "cell_type": "markdown",
      "metadata": {
        "id": "fsjdJLjY0_YM"
      },
      "source": [
        "# **Importing Reserved Key Words**"
      ]
    },
    {
      "cell_type": "code",
      "metadata": {
        "colab": {
          "base_uri": "https://localhost:8080/"
        },
        "id": "f_VUKhTMDP2U",
        "outputId": "bec3bb89-f7bb-449d-a9c6-f6ed07724716"
      },
      "source": [
        "#Importing Reserved Key Words and Length of  Keywrods List\n",
        "import keyword\n",
        "print(keyword.kwlist)\n",
        "print(len(keyword.kwlist))"
      ],
      "execution_count": null,
      "outputs": [
        {
          "output_type": "stream",
          "text": [
            "['False', 'None', 'True', 'and', 'as', 'assert', 'async', 'await', 'break', 'class', 'continue', 'def', 'del', 'elif', 'else', 'except', 'finally', 'for', 'from', 'global', 'if', 'import', 'in', 'is', 'lambda', 'nonlocal', 'not', 'or', 'pass', 'raise', 'return', 'try', 'while', 'with', 'yield']\n",
            "35\n"
          ],
          "name": "stdout"
        }
      ]
    },
    {
      "cell_type": "markdown",
      "metadata": {
        "id": "O8IMihOLIIuO"
      },
      "source": [
        "# **Comments in Python**\n",
        "\n",
        "1. #is used for single Line Comment\n",
        "2. '''abcdefg'''' These Triple Inverted Commas used for Multi lIne Comment\n",
        "3. \"\"\"xyzsdf\"\"\" These Triple Double Inverted Commas used for Multi Line Comment"
      ]
    },
    {
      "cell_type": "code",
      "metadata": {
        "colab": {
          "base_uri": "https://localhost:8080/",
          "height": 35
        },
        "id": "t9pYi2M8DPsT",
        "outputId": "9f84f5c3-2342-49bd-832f-3e9d8db4531e"
      },
      "source": [
        "# This is a single line comment\n",
        "\n",
        "'''\n",
        "This is a\n",
        "Multiline Comment - 1\n",
        "'''\n",
        "\n",
        "\"\"\"\n",
        "This is also\n",
        "Multiline Comment - 2\n",
        "\"\"\""
      ],
      "execution_count": null,
      "outputs": [
        {
          "output_type": "execute_result",
          "data": {
            "application/vnd.google.colaboratory.intrinsic+json": {
              "type": "string"
            },
            "text/plain": [
              "'\\nThis is also\\nMultiline Comment - 2\\n'"
            ]
          },
          "metadata": {
            "tags": []
          },
          "execution_count": 1
        }
      ]
    },
    {
      "cell_type": "markdown",
      "metadata": {
        "id": "HBEF9m0k1iLF"
      },
      "source": [
        "# **Input & Output**"
      ]
    },
    {
      "cell_type": "code",
      "metadata": {
        "colab": {
          "base_uri": "https://localhost:8080/"
        },
        "id": "qSgSfwoGDPiM",
        "outputId": "2bf8e679-37c2-4235-cd81-2209de8978d5"
      },
      "source": [
        "# how to take input from user\n",
        "input()\n",
        "input(\"enter any number: \")\n",
        "\n",
        "a = input(\"enter a number: \")\n",
        "print(a)"
      ],
      "execution_count": null,
      "outputs": [
        {
          "output_type": "stream",
          "text": [
            "789\n",
            "enter any number: 456\n",
            "enter a number: 654\n",
            "654\n"
          ],
          "name": "stdout"
        }
      ]
    },
    {
      "cell_type": "code",
      "metadata": {
        "colab": {
          "base_uri": "https://localhost:8080/"
        },
        "id": "mCmm1X95DPWL",
        "outputId": "3dabf04b-db1a-453f-8588-4c4dbfa07a89"
      },
      "source": [
        "# WAP to get two integer numbers from user and add them\n",
        "a = int(input(\"a = \"))\n",
        "b = int(input(\"b = \"))\n",
        "print(a + b)\n",
        "print(type(a + b))"
      ],
      "execution_count": null,
      "outputs": [
        {
          "output_type": "stream",
          "text": [
            "a = 6\n",
            "b = 3\n",
            "9\n",
            "<class 'int'>\n"
          ],
          "name": "stdout"
        }
      ]
    },
    {
      "cell_type": "code",
      "metadata": {
        "colab": {
          "base_uri": "https://localhost:8080/"
        },
        "id": "A7qxbXJ6DPKr",
        "outputId": "97519319-31b6-4824-9b2a-dc8d627f3993"
      },
      "source": [
        "# WAP to get any float number from user\n",
        "a = float(input(\"enter a float number : \"))\n",
        "print(a)\n",
        "print(type(a))"
      ],
      "execution_count": null,
      "outputs": [
        {
          "output_type": "stream",
          "text": [
            "enter a float number : 60\n",
            "60.0\n",
            "<class 'float'>\n"
          ],
          "name": "stdout"
        }
      ]
    },
    {
      "cell_type": "code",
      "metadata": {
        "colab": {
          "base_uri": "https://localhost:8080/",
          "height": 298
        },
        "id": "CZhebP1E2jHd",
        "outputId": "7bc183af-7efd-452c-c5a4-67f82378971d"
      },
      "source": [
        "# The Below Code is Printing out in different format\n",
        "a = 5\n",
        "\n",
        "b = 6\n",
        "\n",
        "c = 'string'\n",
        "\n",
        "print(a, b, c)\n",
        "\n",
        "print('%d %d %s' % (a, b, c))\n",
        "\n",
        "print('{} {} {}'.format(a, b, c))\n",
        "\n",
        "print('{0} {1} {2}'.format(a, b, c))\n",
        "\n",
        "#this line has different format output\n",
        "print('{2} {0} {1}'.format(c, a, b))\n",
        "\n",
        "# This line will through the error and its just a understanding purpose onlyn\n",
        "print('{2} {4} {6}'.format(a, b, c))"
      ],
      "execution_count": null,
      "outputs": [
        {
          "output_type": "stream",
          "text": [
            "5 6 string\n",
            "5 6 string\n",
            "5 6 string\n",
            "5 6 string\n",
            "6 string 5\n"
          ],
          "name": "stdout"
        },
        {
          "output_type": "error",
          "ename": "IndexError",
          "evalue": "ignored",
          "traceback": [
            "\u001b[0;31m---------------------------------------------------------------------------\u001b[0m",
            "\u001b[0;31mIndexError\u001b[0m                                Traceback (most recent call last)",
            "\u001b[0;32m<ipython-input-12-81b869905684>\u001b[0m in \u001b[0;36m<module>\u001b[0;34m()\u001b[0m\n\u001b[1;32m     17\u001b[0m \u001b[0;34m\u001b[0m\u001b[0m\n\u001b[1;32m     18\u001b[0m \u001b[0;31m# This line will through the error and its just a understanding purpose onlyn\u001b[0m\u001b[0;34m\u001b[0m\u001b[0;34m\u001b[0m\u001b[0;34m\u001b[0m\u001b[0m\n\u001b[0;32m---> 19\u001b[0;31m \u001b[0mprint\u001b[0m\u001b[0;34m(\u001b[0m\u001b[0;34m'{2} {4} {6}'\u001b[0m\u001b[0;34m.\u001b[0m\u001b[0mformat\u001b[0m\u001b[0;34m(\u001b[0m\u001b[0ma\u001b[0m\u001b[0;34m,\u001b[0m \u001b[0mb\u001b[0m\u001b[0;34m,\u001b[0m \u001b[0mc\u001b[0m\u001b[0;34m)\u001b[0m\u001b[0;34m)\u001b[0m\u001b[0;34m\u001b[0m\u001b[0;34m\u001b[0m\u001b[0m\n\u001b[0m",
            "\u001b[0;31mIndexError\u001b[0m: tuple index out of range"
          ]
        }
      ]
    },
    {
      "cell_type": "code",
      "metadata": {
        "colab": {
          "base_uri": "https://localhost:8080/"
        },
        "id": "69cDkpAs2jA2",
        "outputId": "e397f9ff-3e4c-4297-d15f-19a4682c2b7d"
      },
      "source": [
        "#the below line will print the given value 6 Multiple Times\n",
        "print('54'*6)\n",
        "\n",
        "print(5,6,7) # sep = ' ', end = '\\n'\n",
        "\n",
        "print('Python', 1, 2)\n",
        "\n",
        "#the below line code will separated by !\n",
        "print(1,2,3, sep='!')\n",
        "\n",
        "#the below line code will separated by , and ended with !!\n",
        "print(1,2,3, sep=',', end='!!\\n')\n",
        "\n",
        "print(123)\n"
      ],
      "execution_count": null,
      "outputs": [
        {
          "output_type": "stream",
          "text": [
            "545454545454\n",
            "5 6 7\n",
            "Python 1 2\n",
            "1!2!3\n",
            "1,2,3!!\n",
            "123\n"
          ],
          "name": "stdout"
        }
      ]
    },
    {
      "cell_type": "code",
      "metadata": {
        "colab": {
          "base_uri": "https://localhost:8080/"
        },
        "id": "K6YSezot2i8L",
        "outputId": "a1513684-7f16-47ef-8abb-508486c8735a"
      },
      "source": [
        "#the below Code will Break The Current Line and Enters into new line\n",
        "print(\"Hello\\nNaveen Kumar Aavula\\nHow Are You Doing\\nThese are n Statements\\n\")\n",
        "\n",
        "#\\t will give the space in b/w The Words\n",
        "print(\"Hello\\nNaveen Kumar Aavula\\tHow Are You Doing\\nThese are n Statements\")\n"
      ],
      "execution_count": null,
      "outputs": [
        {
          "output_type": "stream",
          "text": [
            "Hello\n",
            "Naveen Kumar Aavula\n",
            "How Are You Doing\n",
            "These are n Statements\n",
            "\n",
            "Hello\n",
            "Naveen Kumar Aavula\tHow Are You Doing\n",
            "These are n Statements\n"
          ],
          "name": "stdout"
        }
      ]
    },
    {
      "cell_type": "markdown",
      "metadata": {
        "id": "aviqQ-Mu9etp"
      },
      "source": [
        "# **Operators**\n",
        "\n",
        "Operators are Basically used to perform operations on values and variables. These are the special symbols that carry out arithmetic and logical computations. The value the operator operates on is known as Operand. \n",
        "\n",
        "Different Types Operators available in python are:\n",
        "\n",
        "1.Arithmatic (+, -, , /, %, //, **)\n",
        "\n",
        "2.Relational (>, >=, <, <=)\n",
        "\n",
        "3.Equality (==, !=)\n",
        "\n",
        "4.Logical (and, or, not)\n",
        "\n",
        "5.Bitwise (&, |, ^, ~, <<, >>)\n",
        "\n",
        "6.Assignment (=, +=, -=, *=, /=, etc..)\n",
        "\n",
        "7.Ternary\n",
        "\n",
        "8.Identity --> is, is not (used for address comparision)\n",
        "\n",
        "9.Membership --> in, not in"
      ]
    },
    {
      "cell_type": "code",
      "metadata": {
        "colab": {
          "base_uri": "https://localhost:8080/"
        },
        "id": "oHZzO3Vx2i64",
        "outputId": "f88a4fc9-f139-43d9-a0ca-848239fed89b"
      },
      "source": [
        "# Arithmatic Operators\n",
        "a = 20\n",
        "b = 10\n",
        "print('a + b = ', a + b) # This Symbol will print the Sum of Two Numbers\n",
        "print('a - b = ', a - b) # This Symbol Will print the Substraction of Two Numbers\n",
        "print('a * b = ', a * b) # This Symbol will print the Multiplication of Two Numbers\n",
        "print('a / b = ', a / b) # This Symbol will print the Devision of Two Numbers\n",
        "print('a % b = ', a % b) # This Symbol will print the remainder of the division of left operand by the right\n",
        "print('a // b = ', a // b) # This Symbol will print the division that results into whole number adjusted to the left in the number line\n",
        "print('a ** b = ', a ** b) # This Symbol will print the left operand raised to the power of right"
      ],
      "execution_count": null,
      "outputs": [
        {
          "output_type": "stream",
          "text": [
            "a + b =  30\n",
            "a - b =  10\n",
            "a * b =  200\n",
            "a / b =  2.0\n",
            "a % b =  0\n",
            "a // b =  2\n",
            "a ** b =  10240000000000\n"
          ],
          "name": "stdout"
        }
      ]
    },
    {
      "cell_type": "code",
      "metadata": {
        "colab": {
          "base_uri": "https://localhost:8080/"
        },
        "id": "CRPP6vfE2iz8",
        "outputId": "23965a47-eb20-4784-8bfb-bff2f37424ac"
      },
      "source": [
        "# Relational Operators\n",
        "# These Relational Ship Operators will checks the Condition and Give The Results into \"True/False\" statemnet\n",
        "a = 10\n",
        "b = 30\n",
        "print(\"a < b = \", a < b)\n",
        "print(\"a > b = \", a > b)\n",
        "print(\"a <= b = \", a <= b)\n",
        "print(\"a >= b = \", a >= b)"
      ],
      "execution_count": null,
      "outputs": [
        {
          "output_type": "stream",
          "text": [
            "a < b =  True\n",
            "a > b =  False\n",
            "a <= b =  True\n",
            "a >= b =  False\n"
          ],
          "name": "stdout"
        }
      ]
    },
    {
      "cell_type": "code",
      "metadata": {
        "colab": {
          "base_uri": "https://localhost:8080/"
        },
        "id": "WR0d13uP2iyt",
        "outputId": "7bb76851-1560-46f3-d781-1076d8f622bd"
      },
      "source": [
        "# Equality Operators\n",
        "\n",
        "a = 10\n",
        "b = 40\n",
        "print(\"a == b\", a == b)\n",
        "print(\"a! = b\", a != b)\n",
        "print(\"a == a\", a == a)"
      ],
      "execution_count": null,
      "outputs": [
        {
          "output_type": "stream",
          "text": [
            "a == b False\n",
            "a! = b True\n",
            "a == a True\n"
          ],
          "name": "stdout"
        }
      ]
    },
    {
      "cell_type": "markdown",
      "metadata": {
        "id": "2f1g0lorGUza"
      },
      "source": [
        "# **Logical Operators**\n",
        "\n",
        "We have 3Types Logical Operators in Python\n",
        "\n",
        "1.NOT; **#Hint:** it is completely Opposite\n",
        "\n",
        "2.And; **#Hint:** the Both Conditions are **\"True\"** Then only its **\"True\"** otherwise **\"False\"**\n",
        "\n",
        "3.OR; **#Hint:** the Both Conditions are **\"False**\" Then only its **\"False\"** otherwise  **\"True\"**"
      ]
    },
    {
      "cell_type": "code",
      "metadata": {
        "colab": {
          "base_uri": "https://localhost:8080/"
        },
        "id": "LBBjsGfmCt9S",
        "outputId": "3f605f84-7875-4ac0-9878-2633a6c13d36"
      },
      "source": [
        "# Logical Operators\n",
        "x = 5\n",
        "x == 5\n",
        "print(not  x == 5,\"\\n\")\n",
        "\n",
        "cond_1 = 10 < 20\n",
        "cond_2 = 30 < 50\n",
        "print(cond_1)\n",
        "print(cond_2)\n",
        "print(cond_1 and cond_2,\"\\n\")\n",
        "\n",
        "a = 5\n",
        "b = 6\n",
        "c = 9\n",
        "print(a > b)\n",
        "print(b > c)\n",
        "print(a > b or b > c)"
      ],
      "execution_count": null,
      "outputs": [
        {
          "output_type": "stream",
          "text": [
            "False \n",
            "\n",
            "True\n",
            "True\n",
            "True \n",
            "\n",
            "False\n",
            "False\n",
            "False\n"
          ],
          "name": "stdout"
        }
      ]
    },
    {
      "cell_type": "markdown",
      "metadata": {
        "id": "gO8f0LgWLgM8"
      },
      "source": [
        "# **Bitwise Operators**\n",
        "\n",
        "1.**&** -> if both bits are **1** then **1** otherwise **0**\n",
        "\n",
        "2.**|** -> if both bits are **0** then **0** otherwise **1**\n",
        "\n",
        "3.**^** -> if both bits are different then **1** otherwise **0**\n",
        "\n",
        "4.~ -> bitwise complement"
      ]
    },
    {
      "cell_type": "code",
      "metadata": {
        "colab": {
          "base_uri": "https://localhost:8080/"
        },
        "id": "Ijr5bScuCtvR",
        "outputId": "596c461d-f134-40fe-9e85-31d1e3bceca8"
      },
      "source": [
        "print(10 & 15)\n",
        "print(10 | 15)\n",
        "print(10 ^ 15)\n",
        "print(~10)"
      ],
      "execution_count": null,
      "outputs": [
        {
          "output_type": "stream",
          "text": [
            "10\n",
            "15\n",
            "5\n",
            "-21\n"
          ],
          "name": "stdout"
        }
      ]
    },
    {
      "cell_type": "markdown",
      "metadata": {
        "id": "7iidtdeslH7r"
      },
      "source": [
        "# **Shift Operators**\n",
        "\n",
        "These operators are used to shift the bits of a number left or right thereby multiplying or dividing the number by two respectively. They can be used when we have to multiply or divide a number by two. \n",
        "\n",
        "**Right Shift:** Right Shift is Nothing But the given Number devide by 2 and its Removes The Decimal Part\n",
        "\n",
        "**Left Shift:** Left Shift is Nothing but the given Number Multiply with 2"
      ]
    },
    {
      "cell_type": "code",
      "metadata": {
        "colab": {
          "base_uri": "https://localhost:8080/"
        },
        "id": "Nom1JnQi2iuf",
        "outputId": "113fe831-3e28-4b66-e03b-d9713bba8ad4"
      },
      "source": [
        "# Right Shift Operator\n",
        "a = 10\n",
        "print(a >> 1) # which meas 2 to the power 1\n",
        "b = 100\n",
        "print(b >> 2) # which means 2 to the power of 2\n",
        "c = 200\n",
        "print(c >> 3,\"\\n\") # which means 2 to the power of 3, # if n = n means 2 to the power of n \n",
        "\n",
        "# Left Shift Operator\n",
        "x = 10\n",
        "print(x << 1) # which means Multiply with 2 to the power of 1\n",
        "y =  20\n",
        "print(y << 2) # which means Multiply with 2 to the power of 2\n",
        "z = 100\n",
        "print(z << 3) # which means Multiply with 2 to the power of 3\n"
      ],
      "execution_count": null,
      "outputs": [
        {
          "output_type": "stream",
          "text": [
            "5\n",
            "25\n",
            "25 \n",
            "\n",
            "20\n",
            "80\n",
            "800\n"
          ],
          "name": "stdout"
        }
      ]
    },
    {
      "cell_type": "code",
      "metadata": {
        "colab": {
          "base_uri": "https://localhost:8080/"
        },
        "id": "wm05Ik5y2isc",
        "outputId": "4077f189-a15d-4e3a-e481-40260e5f55b4"
      },
      "source": [
        "# Assingment Operators\n",
        "x = 10\n",
        "x += 2 # which means x is increamneted by 2\n",
        "print(x,\"\\n\")\n",
        "\n",
        "y = 10 # which means y is decreamented by 2\n",
        "y -= 2\n",
        "print(y,\"\\n\")\n",
        "\n",
        "z = 10\n",
        "z *= 2 # which means z is multiplied with 2\n",
        "print(z,\"\\n\")\n",
        "\n",
        "a = 10\n",
        "a /= 2 # which means a is devided by 2\n",
        "print(a)"
      ],
      "execution_count": null,
      "outputs": [
        {
          "output_type": "stream",
          "text": [
            "12 \n",
            "\n",
            "8 \n",
            "\n",
            "20 \n",
            "\n",
            "5.0\n"
          ],
          "name": "stdout"
        }
      ]
    },
    {
      "cell_type": "markdown",
      "metadata": {
        "id": "OsVYDiU1xdTh"
      },
      "source": [
        "# **Ternary Operator**\n",
        "\n",
        "Ternary operators also known as conditional expressions are operators that evaluate something based on a condition being true or false.\n",
        "\n",
        "It simply allows to test a condition in a single line replacing the multiline if-else making the code compact.\n",
        "\n",
        "**Syntax :**\n",
        "[on_true] if [expression] else [on_false] "
      ]
    },
    {
      "cell_type": "code",
      "metadata": {
        "colab": {
          "base_uri": "https://localhost:8080/"
        },
        "id": "iefCK0I8DPCi",
        "outputId": "d34314a3-bbad-49e2-cea8-93e42cd1cdf4"
      },
      "source": [
        "a = 10\n",
        "b = 20\n",
        "min = a if a < b else b\n",
        "print(min)\n",
        "max = a if a > b else b\n",
        "print(max)"
      ],
      "execution_count": null,
      "outputs": [
        {
          "output_type": "stream",
          "text": [
            "10\n",
            "20\n"
          ],
          "name": "stdout"
        }
      ]
    },
    {
      "cell_type": "markdown",
      "metadata": {
        "id": "2h2Ja6-22VdI"
      },
      "source": [
        "# **Identity Operators**\n",
        "1.**is** -> Returns true if both variables are the same object\n",
        "\n",
        "2.**is not** -> Returns true if both variables are not the same object"
      ]
    },
    {
      "cell_type": "code",
      "metadata": {
        "colab": {
          "base_uri": "https://localhost:8080/"
        },
        "id": "9s0xVzZv2laL",
        "outputId": "18819217-c350-4c31-e045-a9047beb38b5"
      },
      "source": [
        "x = [\"apple\",\"banana\"]\n",
        "y = [\"apple\",\"banana\"]\n",
        "z = x\n",
        "\n",
        "print(x is z) # returns True because z is the same object as x\n",
        "print(x is y) #returns False because x is not the same object as y, even if they have the same content\n",
        "print(x == y) # to demonstrate the difference betweeen \"is\" and \"==\": this comparison returns True because x is equal to y\n",
        "\n",
        "# Observe the ID's These  varaibles\n",
        "print(id(x)) # it will print the id of x\n",
        "print(id(y)) # it will print the id of y\n",
        "print(id(z)) #it will print the  id of z"
      ],
      "execution_count": null,
      "outputs": [
        {
          "output_type": "stream",
          "text": [
            "True\n",
            "False\n",
            "True\n",
            "139848180015984\n",
            "139848180259808\n",
            "139848180015984\n"
          ],
          "name": "stdout"
        }
      ]
    },
    {
      "cell_type": "code",
      "metadata": {
        "colab": {
          "base_uri": "https://localhost:8080/"
        },
        "id": "EspHl9jBsXQN",
        "outputId": "5bb91f3b-e392-490b-a655-2928361bec73"
      },
      "source": [
        "x = [\"apple\",\"banana\"]\n",
        "y = [\"apple\",\"banana\"]\n",
        "z = x\n",
        "\n",
        "print(x is not z) # returns False because z is the same object as x\n",
        "print(x is not y) #returns True because x is not the same object as y, even if they have the same content\n",
        "print(x != y) # to demonstrate the difference betweeen \"is not\" and \"!=\": this comparison returns True because x is equal to y\n",
        "\n",
        "# Observe the ID's These  varaibles\n",
        "print(id(x)) # it will print the id of x\n",
        "print(id(y)) # it will print the id of y\n",
        "print(id(z)) #it will print the  id of z"
      ],
      "execution_count": null,
      "outputs": [
        {
          "output_type": "stream",
          "text": [
            "False\n",
            "True\n",
            "False\n",
            "139848180233552\n",
            "139848235099632\n",
            "139848180233552\n"
          ],
          "name": "stdout"
        }
      ]
    },
    {
      "cell_type": "markdown",
      "metadata": {
        "id": "H2p4rSp0sKhM"
      },
      "source": [
        "# Membership Operators\n",
        "\n",
        "**in:** Returns True if a sequence with the specified value is present in the object\n",
        "\n",
        "**not in:** Returns True if a sequence with the specified value is not present in the object"
      ]
    },
    {
      "cell_type": "code",
      "metadata": {
        "colab": {
          "base_uri": "https://localhost:8080/"
        },
        "id": "7TV0hnGtsKKF",
        "outputId": "62c646b1-69b0-4a5f-d7a4-49354f1b7afa"
      },
      "source": [
        "# \"in\" Membership operator\n",
        "x = [\"apple\",\"banana\"]\n",
        "print(\"banana\" in x) #returns True because a sequence with the value \"banana\" is in the list"
      ],
      "execution_count": null,
      "outputs": [
        {
          "output_type": "stream",
          "text": [
            "True\n"
          ],
          "name": "stdout"
        }
      ]
    },
    {
      "cell_type": "code",
      "metadata": {
        "colab": {
          "background_save": true,
          "base_uri": "https://localhost:8080/"
        },
        "id": "tHFkAFATsKDq",
        "outputId": "5ccf9178-c514-4a0d-dc30-3d3481e906bc"
      },
      "source": [
        "# \"not in\" Membership Operator\n",
        "x = [\"apple\",\"banana\"]\n",
        "print(\"apple\" not in x) # returns False because a sequence with the value \"pineapple\" is in the lis\n",
        "print(\"pineapple\" not in x) # returns True because a sequence with the value \"pineapple\" is not in the lis"
      ],
      "execution_count": null,
      "outputs": [
        {
          "output_type": "stream",
          "text": [
            "False\n",
            "True\n"
          ],
          "name": "stdout"
        }
      ]
    }
  ]
}